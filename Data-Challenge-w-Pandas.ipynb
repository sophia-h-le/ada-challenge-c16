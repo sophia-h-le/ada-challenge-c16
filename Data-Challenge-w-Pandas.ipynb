{
 "cells": [
  {
   "cell_type": "code",
   "execution_count": 1,
   "id": "comic-perception",
   "metadata": {},
   "outputs": [],
   "source": [
    "import pandas as pd"
   ]
  },
  {
   "cell_type": "markdown",
   "id": "induced-yugoslavia",
   "metadata": {},
   "source": [
    "Create dataframe from CSV file"
   ]
  },
  {
   "cell_type": "code",
   "execution_count": 2,
   "id": "announced-drama",
   "metadata": {},
   "outputs": [],
   "source": [
    "raw_data = pd.read_csv('High_School_Graduate_Outcomes_-_Earnings.csv')"
   ]
  },
  {
   "cell_type": "code",
   "execution_count": 3,
   "id": "recorded-dependence",
   "metadata": {},
   "outputs": [
    {
     "data": {
      "text/plain": [
       "138539"
      ]
     },
     "execution_count": 3,
     "metadata": {},
     "output_type": "execute_result"
    }
   ],
   "source": [
    "raw_data.shape[0]"
   ]
  },
  {
   "cell_type": "markdown",
   "id": "afraid-lebanon",
   "metadata": {},
   "source": [
    "Filter dataframe"
   ]
  },
  {
   "cell_type": "code",
   "execution_count": 4,
   "id": "vertical-syria",
   "metadata": {},
   "outputs": [],
   "source": [
    "DistrictTTLs = ('Seattle Public Schools', \n",
    "        'Lake Washington School District',\n",
    "        'Bellevue School District',\n",
    "        'Mercer Island School District',\n",
    "        'Renton School District')"
   ]
  },
  {
   "cell_type": "code",
   "execution_count": 5,
   "id": "nonprofit-development",
   "metadata": {},
   "outputs": [],
   "source": [
    "df = raw_data[(raw_data['YearAfterGrad']>=7) & (raw_data['DistrictTTL'].isin(DistrictTTLs)) & (~raw_data['SchoolTTL'].str.contains('District', na = True))]"
   ]
  },
  {
   "cell_type": "code",
   "execution_count": null,
   "id": "polar-knight",
   "metadata": {},
   "outputs": [],
   "source": [
    "df.shape[0]"
   ]
  },
  {
   "cell_type": "markdown",
   "id": "romantic-floating",
   "metadata": {},
   "source": [
    "Question 1: Return the SchoolTTL and HighestAchievement of highest NumRecords"
   ]
  },
  {
   "cell_type": "code",
   "execution_count": null,
   "id": "british-brave",
   "metadata": {
    "scrolled": true
   },
   "outputs": [],
   "source": [
    "schoolttl_index = df.columns.get_loc('SchoolTTL')\n",
    "achievement_index = df.columns.get_loc('HighestAchievement') "
   ]
  },
  {
   "cell_type": "code",
   "execution_count": null,
   "id": "pharmaceutical-pioneer",
   "metadata": {},
   "outputs": [],
   "source": [
    "result_1 = raw_data.iloc[df['NumRecords'].idxmax(), [schoolttl_index, achievement_index]]\n",
    "result_1"
   ]
  },
  {
   "cell_type": "markdown",
   "id": "august-principal",
   "metadata": {},
   "source": [
    "Question 2: Return sum of NumRecords of HighestAchievement of 'Bachelor's or Higher' and DemographicGrouping of 'All Students'"
   ]
  },
  {
   "cell_type": "code",
   "execution_count": null,
   "id": "modified-glass",
   "metadata": {},
   "outputs": [],
   "source": [
    "df2 = df[(df['HighestAchievement']==\"Bachelor's or Higher\") & (df['DemographicGrouping']=='All Students')]"
   ]
  },
  {
   "cell_type": "code",
   "execution_count": null,
   "id": "intermediate-laser",
   "metadata": {},
   "outputs": [],
   "source": [
    "sumRecords = df2['NumRecords'].sum()\n",
    "sumRecords"
   ]
  },
  {
   "cell_type": "markdown",
   "id": "unique-command",
   "metadata": {},
   "source": [
    "Question 3: Return median of MedianEarnings of DemographicValue of 'FRPL' and HighestAchievement of 'HS Diploma'"
   ]
  },
  {
   "cell_type": "code",
   "execution_count": null,
   "id": "impressed-bridal",
   "metadata": {},
   "outputs": [],
   "source": [
    "df3 = df[(df['DemographicValue']=='FRPL') & (df['HighestAchievement']=='HS Diploma')]"
   ]
  },
  {
   "cell_type": "code",
   "execution_count": null,
   "id": "assured-journalist",
   "metadata": {},
   "outputs": [],
   "source": [
    "df3['MedianEarnings'].median(skipna = False)"
   ]
  },
  {
   "cell_type": "markdown",
   "id": "raised-arthritis",
   "metadata": {},
   "source": [
    "Question 4: Return differences between highest MedianEarnings of HighestAchievement of 'Bachelor's or Higher' between DemographicValue of 'Male' and 'Female'"
   ]
  },
  {
   "cell_type": "code",
   "execution_count": null,
   "id": "fluid-mistress",
   "metadata": {},
   "outputs": [],
   "source": [
    "df4_f = df[(df['DemographicValue']=='Female') & (df['HighestAchievement']==\"Bachelor's or Higher\")]\n",
    "df4_m = df[(df['DemographicValue']=='Male') & (df['HighestAchievement']==\"Bachelor's or Higher\")]"
   ]
  },
  {
   "cell_type": "code",
   "execution_count": null,
   "id": "separated-shelf",
   "metadata": {},
   "outputs": [],
   "source": [
    "max_earnings_f = df4_f['MedianEarnings'].max()\n",
    "max_earnings_m = df4_m['MedianEarnings'].max()"
   ]
  },
  {
   "cell_type": "code",
   "execution_count": null,
   "id": "eleven-battery",
   "metadata": {},
   "outputs": [],
   "source": [
    "earnings_delta = max_earnings_m - max_earnings_f\n",
    "earnings_delta"
   ]
  },
  {
   "cell_type": "markdown",
   "id": "lightweight-addition",
   "metadata": {},
   "source": [
    "Question 5:  Return SchoolTTL with higher MedianEarnings than the \"Median household income (in 2019 dollars), 2015-2019 in Washington State according to the US Census Bureau\""
   ]
  },
  {
   "cell_type": "code",
   "execution_count": null,
   "id": "grateful-asset",
   "metadata": {},
   "outputs": [],
   "source": [
    "household_income = 73775"
   ]
  },
  {
   "cell_type": "code",
   "execution_count": null,
   "id": "linear-temple",
   "metadata": {},
   "outputs": [],
   "source": [
    "df5 = df[df['MedianEarnings'] > household_income]"
   ]
  },
  {
   "cell_type": "code",
   "execution_count": null,
   "id": "elect-yield",
   "metadata": {},
   "outputs": [],
   "source": [
    "df5.SchoolTTL.unique()"
   ]
  },
  {
   "cell_type": "code",
   "execution_count": null,
   "id": "sticky-knowing",
   "metadata": {},
   "outputs": [],
   "source": []
  }
 ],
 "metadata": {
  "kernelspec": {
   "display_name": "Python 3",
   "language": "python",
   "name": "python3"
  },
  "language_info": {
   "codemirror_mode": {
    "name": "ipython",
    "version": 3
   },
   "file_extension": ".py",
   "mimetype": "text/x-python",
   "name": "python",
   "nbconvert_exporter": "python",
   "pygments_lexer": "ipython3",
   "version": "3.7.7"
  }
 },
 "nbformat": 4,
 "nbformat_minor": 5
}
